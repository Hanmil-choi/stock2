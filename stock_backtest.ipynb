{
 "cells": [
  {
   "cell_type": "code",
   "execution_count": 9,
   "metadata": {
    "executionInfo": {
     "elapsed": 10879,
     "status": "ok",
     "timestamp": 1752470625570,
     "user": {
      "displayName": "Wonyong Sung",
      "userId": "04491223332825469298"
     },
     "user_tz": -540
    },
    "id": "emQEXzWPM7XG"
   },
   "outputs": [],
   "source": [
    "!pip install yfinance --quiet"
   ]
  },
  {
   "cell_type": "code",
   "execution_count": 10,
   "metadata": {
    "executionInfo": {
     "elapsed": 64,
     "status": "ok",
     "timestamp": 1752470628941,
     "user": {
      "displayName": "Wonyong Sung",
      "userId": "04491223332825469298"
     },
     "user_tz": -540
    },
    "id": "Vu0u8lLyM77N"
   },
   "outputs": [],
   "source": [
    "import yfinance as yf\n",
    "import pandas as pd\n",
    "import matplotlib.pyplot as plt\n",
    "import numpy as np"
   ]
  },
  {
   "cell_type": "code",
   "execution_count": 11,
   "metadata": {
    "colab": {
     "base_uri": "https://localhost:8080/"
    },
    "executionInfo": {
     "elapsed": 109,
     "status": "ok",
     "timestamp": 1752470631824,
     "user": {
      "displayName": "Wonyong Sung",
      "userId": "04491223332825469298"
     },
     "user_tz": -540
    },
    "id": "v7Oc2LsvM8c1",
    "outputId": "096fff87-24e2-45c9-b169-af38c9113225"
   },
   "outputs": [
    {
     "name": "stderr",
     "output_type": "stream",
     "text": [
      "\r[*********************100%***********************]  1 of 1 completed\n"
     ]
    }
   ],
   "source": [
    "ticker = 'QQQ'\n",
    "df = yf.download(ticker, start=\"2023-01-01\", end=\"2025-07-11\", auto_adjust=False)\n",
    "df.columns = ['Open', 'High', 'Low', 'Close', 'Adj Close', 'Volume']\n"
   ]
  },
  {
   "cell_type": "code",
   "execution_count": null,
   "metadata": {
    "id": "g4noyy_TNFKx"
   },
   "outputs": [],
   "source": [
    "ticker = 'NVDA'\n",
    "df = yf.download(ticker, start=\"2023-01-01\", end=\"2025-07-11\", auto_adjust=False)\n",
    "df.columns = ['Open', 'High', 'Low', 'Close', 'Adj Close', 'Volume']"
   ]
  },
  {
   "cell_type": "code",
   "execution_count": null,
   "metadata": {
    "id": "ICw3wBD0NGGL"
   },
   "outputs": [],
   "source": [
    "ticker = 'PSQ'\n",
    "df = yf.download(ticker, start=\"2019-01-01\", end=\"2025-07-11\", auto_adjust=False)\n",
    "df.columns = ['Open', 'High', 'Low', 'Close', 'Adj Close', 'Volume']\n"
   ]
  },
  {
   "cell_type": "code",
   "execution_count": null,
   "metadata": {
    "colab": {
     "base_uri": "https://localhost:8080/"
    },
    "executionInfo": {
     "elapsed": 603,
     "status": "ok",
     "timestamp": 1752460674519,
     "user": {
      "displayName": "Wonyong Sung",
      "userId": "04491223332825469298"
     },
     "user_tz": -540
    },
    "id": "LWWx3IFCNGkq",
    "outputId": "fecae88c-602d-48cb-99c8-bd54fd83f70c"
   },
   "outputs": [
    {
     "name": "stderr",
     "output_type": "stream",
     "text": [
      "\r[*********************100%***********************]  1 of 1 completed\n"
     ]
    }
   ],
   "source": [
    "ticker = 'DIA'\n",
    "df = yf.download(ticker, start=\"2019-01-01\", end=\"2025-07-11\", auto_adjust=False)\n",
    "df.columns = ['Open', 'High', 'Low', 'Close', 'Adj Close', 'Volume']\n"
   ]
  },
  {
   "cell_type": "code",
   "execution_count": null,
   "metadata": {
    "id": "lGLZ2ILzNHNB"
   },
   "outputs": [],
   "source": []
  },
  {
   "cell_type": "code",
   "execution_count": null,
   "metadata": {
    "id": "8jgtFU-CNkXT"
   },
   "outputs": [],
   "source": []
  },
  {
   "cell_type": "code",
   "execution_count": 12,
   "metadata": {
    "colab": {
     "base_uri": "https://localhost:8080/",
     "height": 600
    },
    "executionInfo": {
     "elapsed": 135,
     "status": "error",
     "timestamp": 1752470638225,
     "user": {
      "displayName": "Wonyong Sung",
      "userId": "04491223332825469298"
     },
     "user_tz": -540
    },
    "id": "a3hKeaQtq3RY",
    "outputId": "1bb324bc-e662-4bd1-b8a9-e08285d9de6b"
   },
   "outputs": [
    {
     "name": "stdout",
     "output_type": "stream",
     "text": [
      "ticker = QQQ\n"
     ]
    },
    {
     "ename": "KeyError",
     "evalue": "'Buy_Signal'",
     "output_type": "error",
     "traceback": [
      "\u001b[0;31m---------------------------------------------------------------------------\u001b[0m",
      "\u001b[0;31mKeyError\u001b[0m                                  Traceback (most recent call last)",
      "\u001b[0;32m/usr/local/lib/python3.11/dist-packages/pandas/core/indexes/base.py\u001b[0m in \u001b[0;36mget_loc\u001b[0;34m(self, key)\u001b[0m\n\u001b[1;32m   3804\u001b[0m         \u001b[0;32mtry\u001b[0m\u001b[0;34m:\u001b[0m\u001b[0;34m\u001b[0m\u001b[0;34m\u001b[0m\u001b[0m\n\u001b[0;32m-> 3805\u001b[0;31m             \u001b[0;32mreturn\u001b[0m \u001b[0mself\u001b[0m\u001b[0;34m.\u001b[0m\u001b[0m_engine\u001b[0m\u001b[0;34m.\u001b[0m\u001b[0mget_loc\u001b[0m\u001b[0;34m(\u001b[0m\u001b[0mcasted_key\u001b[0m\u001b[0;34m)\u001b[0m\u001b[0;34m\u001b[0m\u001b[0;34m\u001b[0m\u001b[0m\n\u001b[0m\u001b[1;32m   3806\u001b[0m         \u001b[0;32mexcept\u001b[0m \u001b[0mKeyError\u001b[0m \u001b[0;32mas\u001b[0m \u001b[0merr\u001b[0m\u001b[0;34m:\u001b[0m\u001b[0;34m\u001b[0m\u001b[0;34m\u001b[0m\u001b[0m\n",
      "\u001b[0;32mindex.pyx\u001b[0m in \u001b[0;36mpandas._libs.index.IndexEngine.get_loc\u001b[0;34m()\u001b[0m\n",
      "\u001b[0;32mindex.pyx\u001b[0m in \u001b[0;36mpandas._libs.index.IndexEngine.get_loc\u001b[0;34m()\u001b[0m\n",
      "\u001b[0;32mpandas/_libs/hashtable_class_helper.pxi\u001b[0m in \u001b[0;36mpandas._libs.hashtable.PyObjectHashTable.get_item\u001b[0;34m()\u001b[0m\n",
      "\u001b[0;32mpandas/_libs/hashtable_class_helper.pxi\u001b[0m in \u001b[0;36mpandas._libs.hashtable.PyObjectHashTable.get_item\u001b[0;34m()\u001b[0m\n",
      "\u001b[0;31mKeyError\u001b[0m: 'Buy_Signal'",
      "\nThe above exception was the direct cause of the following exception:\n",
      "\u001b[0;31mKeyError\u001b[0m                                  Traceback (most recent call last)",
      "\u001b[0;32m/tmp/ipython-input-12-4095964082.py\u001b[0m in \u001b[0;36m<cell line: 0>\u001b[0;34m()\u001b[0m\n\u001b[1;32m    106\u001b[0m     \u001b[0mprice\u001b[0m \u001b[0;34m=\u001b[0m \u001b[0mdf\u001b[0m\u001b[0;34m[\u001b[0m\u001b[0;34m'Close'\u001b[0m\u001b[0;34m]\u001b[0m\u001b[0;34m.\u001b[0m\u001b[0miloc\u001b[0m\u001b[0;34m[\u001b[0m\u001b[0mi\u001b[0m\u001b[0;34m]\u001b[0m\u001b[0;34m\u001b[0m\u001b[0;34m\u001b[0m\u001b[0m\n\u001b[1;32m    107\u001b[0m \u001b[0;34m\u001b[0m\u001b[0m\n\u001b[0;32m--> 108\u001b[0;31m     \u001b[0;32mif\u001b[0m \u001b[0;32mnot\u001b[0m \u001b[0mholding\u001b[0m \u001b[0;32mand\u001b[0m \u001b[0mdf\u001b[0m\u001b[0;34m[\u001b[0m\u001b[0;34m\"Buy_Signal\"\u001b[0m\u001b[0;34m]\u001b[0m\u001b[0;34m.\u001b[0m\u001b[0miloc\u001b[0m\u001b[0;34m[\u001b[0m\u001b[0mi\u001b[0m\u001b[0;34m]\u001b[0m\u001b[0;34m:\u001b[0m\u001b[0;34m\u001b[0m\u001b[0;34m\u001b[0m\u001b[0m\n\u001b[0m\u001b[1;32m    109\u001b[0m         \u001b[0mholding\u001b[0m \u001b[0;34m=\u001b[0m \u001b[0;32mTrue\u001b[0m\u001b[0;34m\u001b[0m\u001b[0;34m\u001b[0m\u001b[0m\n\u001b[1;32m    110\u001b[0m         \u001b[0mentry_price\u001b[0m \u001b[0;34m=\u001b[0m \u001b[0mprice\u001b[0m\u001b[0;34m\u001b[0m\u001b[0;34m\u001b[0m\u001b[0m\n",
      "\u001b[0;32m/usr/local/lib/python3.11/dist-packages/pandas/core/frame.py\u001b[0m in \u001b[0;36m__getitem__\u001b[0;34m(self, key)\u001b[0m\n\u001b[1;32m   4100\u001b[0m             \u001b[0;32mif\u001b[0m \u001b[0mself\u001b[0m\u001b[0;34m.\u001b[0m\u001b[0mcolumns\u001b[0m\u001b[0;34m.\u001b[0m\u001b[0mnlevels\u001b[0m \u001b[0;34m>\u001b[0m \u001b[0;36m1\u001b[0m\u001b[0;34m:\u001b[0m\u001b[0;34m\u001b[0m\u001b[0;34m\u001b[0m\u001b[0m\n\u001b[1;32m   4101\u001b[0m                 \u001b[0;32mreturn\u001b[0m \u001b[0mself\u001b[0m\u001b[0;34m.\u001b[0m\u001b[0m_getitem_multilevel\u001b[0m\u001b[0;34m(\u001b[0m\u001b[0mkey\u001b[0m\u001b[0;34m)\u001b[0m\u001b[0;34m\u001b[0m\u001b[0;34m\u001b[0m\u001b[0m\n\u001b[0;32m-> 4102\u001b[0;31m             \u001b[0mindexer\u001b[0m \u001b[0;34m=\u001b[0m \u001b[0mself\u001b[0m\u001b[0;34m.\u001b[0m\u001b[0mcolumns\u001b[0m\u001b[0;34m.\u001b[0m\u001b[0mget_loc\u001b[0m\u001b[0;34m(\u001b[0m\u001b[0mkey\u001b[0m\u001b[0;34m)\u001b[0m\u001b[0;34m\u001b[0m\u001b[0;34m\u001b[0m\u001b[0m\n\u001b[0m\u001b[1;32m   4103\u001b[0m             \u001b[0;32mif\u001b[0m \u001b[0mis_integer\u001b[0m\u001b[0;34m(\u001b[0m\u001b[0mindexer\u001b[0m\u001b[0;34m)\u001b[0m\u001b[0;34m:\u001b[0m\u001b[0;34m\u001b[0m\u001b[0;34m\u001b[0m\u001b[0m\n\u001b[1;32m   4104\u001b[0m                 \u001b[0mindexer\u001b[0m \u001b[0;34m=\u001b[0m \u001b[0;34m[\u001b[0m\u001b[0mindexer\u001b[0m\u001b[0;34m]\u001b[0m\u001b[0;34m\u001b[0m\u001b[0;34m\u001b[0m\u001b[0m\n",
      "\u001b[0;32m/usr/local/lib/python3.11/dist-packages/pandas/core/indexes/base.py\u001b[0m in \u001b[0;36mget_loc\u001b[0;34m(self, key)\u001b[0m\n\u001b[1;32m   3810\u001b[0m             ):\n\u001b[1;32m   3811\u001b[0m                 \u001b[0;32mraise\u001b[0m \u001b[0mInvalidIndexError\u001b[0m\u001b[0;34m(\u001b[0m\u001b[0mkey\u001b[0m\u001b[0;34m)\u001b[0m\u001b[0;34m\u001b[0m\u001b[0;34m\u001b[0m\u001b[0m\n\u001b[0;32m-> 3812\u001b[0;31m             \u001b[0;32mraise\u001b[0m \u001b[0mKeyError\u001b[0m\u001b[0;34m(\u001b[0m\u001b[0mkey\u001b[0m\u001b[0;34m)\u001b[0m \u001b[0;32mfrom\u001b[0m \u001b[0merr\u001b[0m\u001b[0;34m\u001b[0m\u001b[0;34m\u001b[0m\u001b[0m\n\u001b[0m\u001b[1;32m   3813\u001b[0m         \u001b[0;32mexcept\u001b[0m \u001b[0mTypeError\u001b[0m\u001b[0;34m:\u001b[0m\u001b[0;34m\u001b[0m\u001b[0;34m\u001b[0m\u001b[0m\n\u001b[1;32m   3814\u001b[0m             \u001b[0;31m# If we have a listlike key, _check_indexing_error will raise\u001b[0m\u001b[0;34m\u001b[0m\u001b[0;34m\u001b[0m\u001b[0m\n",
      "\u001b[0;31mKeyError\u001b[0m: 'Buy_Signal'"
     ]
    }
   ],
   "source": [
    "# 📌 2. 기술적 지표 계산\n",
    "print('ticker =', ticker)\n",
    "\n",
    "\n",
    "def trend_following_strategy(df):\n",
    "    df = df.copy()\n",
    "\n",
    "    # 📌 1. 기술적 지표 계산\n",
    "    df['SMA20'] = df['Close'].rolling(20).mean()\n",
    "    df['SMA60'] = df['Close'].rolling(60).mean()\n",
    "    df['EMA12'] = df['Close'].ewm(span=12, adjust=False).mean()\n",
    "    df['EMA26'] = df['Close'].ewm(span=26, adjust=False).mean()\n",
    "    df['EMA5'] = df['Close'].ewm(span=5, adjust=False).mean()\n",
    "    df['MACD'] = df['EMA12'] - df['EMA26']\n",
    "    df['MACD_signal'] = df['MACD'].ewm(span=9, adjust=False).mean()\n",
    "    df['MACD_GoldenCross'] = (df['MACD'] > df['MACD_signal']) & (df['MACD'].shift(1) <= df['MACD_signal'].shift(1))\n",
    "    df['RSI14'] = compute_RSI(df['Close'], 14)\n",
    "    df['Volume_MA5'] = df['Volume'].rolling(5).mean()\n",
    "    df['Slope_SMA60'] = df['SMA60'].diff(3) / 3\n",
    "\n",
    "    # 볼린저 밴드\n",
    "    df['BB_Mid'] = df['Close'].rolling(20).mean()\n",
    "    df['BB_Std'] = df['Close'].rolling(20).std()\n",
    "    df['BB_Upper'] = df['BB_Mid'] + 2 * df['BB_Std']\n",
    "    df['BB_Lower'] = df['BB_Mid'] - 2 * df['BB_Std']\n",
    "\n",
    "    df[\"Buy_Signal\"] = False\n",
    "    df[\"Buy_Reason\"] = \"\"\n",
    "    df[\"Sell_Signal\"] = False\n",
    "    df[\"Sell_Reason\"] = \"\"\n",
    "\n",
    "    # 📌 2. Buy Logic (Trend Breakout + Bottom Fishing)\n",
    "    for i in range(3, len(df)):\n",
    "        row = df.iloc[i]\n",
    "        reason = \"\"\n",
    "\n",
    "        # Trend Breakout\n",
    "        if (\n",
    "            row[\"Slope_SMA60\"] > 0 and\n",
    "            row[\"Close\"] > row[\"SMA60\"] and\n",
    "            row[\"MACD_GoldenCross\"] and\n",
    "            row[\"RSI14\"] < 65\n",
    "        ):\n",
    "            reason = \"Trend Breakout\"\n",
    "\n",
    "        # Bottom Fishing\n",
    "        elif (\n",
    "            row[\"Slope_SMA60\"] > 0 and\n",
    "            row[\"Close\"] < row[\"BB_Mid\"] and\n",
    "            40 < row[\"RSI14\"] < 60 and\n",
    "            (row[\"Close\"] - row[\"BB_Lower\"]) / (row[\"BB_Upper\"] - row[\"BB_Lower\"]) < 0.3 and\n",
    "            row[\"MACD_GoldenCross\"]\n",
    "        ):\n",
    "            reason = \"Bottom Fishing\"\n",
    "\n",
    "        if reason:\n",
    "            df.at[df.index[i], \"Buy_Signal\"] = True\n",
    "            df.at[df.index[i], \"Buy_Reason\"] = reason\n",
    "\n",
    "    # 📌 3. Sell Logic (보수적 추세 약화 기반)\n",
    "    df[\"Trailing_High\"] = df[\"Close\"].cummax()\n",
    "    df[\"Drawdown\"] = (df[\"Close\"] - df[\"Trailing_High\"]) / df[\"Trailing_High\"]\n",
    "\n",
    "    for i in range(3, len(df)):\n",
    "        row = df.iloc[i]\n",
    "        reasons = []\n",
    "\n",
    "        if row[\"RSI14\"] > 70 and row[\"RSI14\"] < df[\"RSI14\"].iloc[i - 1] and row[\"MACD\"] < row[\"MACD_signal\"]:\n",
    "            reasons.append(\"Overbought Reversal\")\n",
    "\n",
    "        if row[\"Close\"] < df[\"SMA20\"].iloc[i] * 0.98 and df[\"SMA20\"].iloc[i] < df[\"SMA20\"].iloc[i - 1] and row[\"RSI14\"] > 45:\n",
    "            reasons.append(\"SMA20 Breakdown\")\n",
    "\n",
    "        if row[\"MACD\"] < row[\"MACD_signal\"] and row[\"Close\"] < row[\"EMA5\"]:\n",
    "            reasons.append(\"Failed Rebound\")\n",
    "\n",
    "        if reasons:\n",
    "            df.at[df.index[i], \"Sell_Signal\"] = True\n",
    "            df.at[df.index[i], \"Sell_Reason\"] = \", \".join(reasons)\n",
    "\n",
    "    return df\n",
    "\n",
    "# RSI 계산 함수\n",
    "def compute_RSI(series, period=14):\n",
    "    delta = series.diff()\n",
    "    gain = delta.where(delta > 0, 0).rolling(period).mean()\n",
    "    loss = -delta.where(delta < 0, 0).rolling(period).mean()\n",
    "    rs = gain / (loss + 1e-10)\n",
    "    return 100 - (100 / (1 + rs))\n",
    "\n",
    "\n",
    "# 📌 4. 거래 기록 생성\n",
    "trades = []\n",
    "capital = 10000\n",
    "holding = False\n",
    "entry_price = 0\n",
    "entry_date = None\n",
    "position = 0\n",
    "max_close = 0\n",
    "trailing_stop_pct = 0.3\n",
    "sell_dates = []\n",
    "entry_reason = \"\"\n",
    "\n",
    "for i in range(len(df)):\n",
    "    date = df.index[i]\n",
    "    price = df['Close'].iloc[i]\n",
    "\n",
    "    if not holding and df[\"Buy_Signal\"].iloc[i]:\n",
    "        holding = True\n",
    "        entry_price = price\n",
    "        entry_date = date\n",
    "        entry_reason = df[\"Buy_Reason\"].iloc[i]\n",
    "        position = capital / entry_price\n",
    "        max_close = price\n",
    "        buy_index = i  # ← 현재 인덱스 저장\n",
    "\n",
    "    elif holding:\n",
    "        max_close = max(max_close, price)\n",
    "\n",
    "        # Trailing Stop\n",
    "        if price < max_close * (1 - trailing_stop_pct):\n",
    "            capital = position * price\n",
    "            trades.append({\n",
    "                \"Buy Date\": entry_date.date(),\n",
    "                \"Buy Price\": round(entry_price, 2),\n",
    "                \"Sell Date\": date.date(),\n",
    "                \"Sell Price\": round(price, 2),\n",
    "                \"Gain (%)\": round((price - entry_price) / entry_price * 100, 2),\n",
    "                \"Final Capital ($)\": round(capital, 2),\n",
    "                \"Reason\": \"Trailing Stop\"\n",
    "            })\n",
    "            holding = False\n",
    "            continue\n",
    "\n",
    "        reasons = sell_condition(i, entry_price, buy_index)\n",
    "        if reasons:\n",
    "            capital = position * price\n",
    "            df.at[date, \"Sell_Signal\"] = True\n",
    "            df.at[date, \"Sell_Reason\"] = \", \".join(reasons)\n",
    "\n",
    "# 매도 시점에 Buy Reason도 함께 기록\n",
    "            trades.append({\n",
    "                \"Buy Date\": entry_date.date(),\n",
    "                \"Buy Price\": round(entry_price, 2),\n",
    "                \"Sell Date\": date.date(),\n",
    "                \"Sell Price\": round(price, 2),\n",
    "                \"Gain (%)\": round((price - entry_price) / entry_price * 100, 2),\n",
    "                \"Final Capital ($)\": round(capital, 2),\n",
    "                \"Buy Reason\": entry_reason,\n",
    "                \"Sell Reason\": \", \".join(reasons)\n",
    "            })\n",
    "            holding = False\n",
    "\n",
    "# 📋 결과 출력\n",
    "trade_df = pd.DataFrame(trades)\n",
    "print(\"📋 Swing Trade Records:\")\n",
    "print(trade_df)\n",
    "\n",
    "# 기간 계산\n",
    "start_date = df[df[\"Buy_Signal\"] == True].index[0]\n",
    "end_date = df[df[\"Sell_Signal\"] == True].index[-1]\n",
    "n_years = (end_date - start_date).days / 365.25\n",
    "\n",
    "# 초기 자금과 최종 자금\n",
    "initial_capital = 10000\n",
    "final_capital = trade_df[\"Final Capital ($)\"].iloc[-1]\n",
    "\n",
    "# ✅ CAGR 계산\n",
    "CAGR = (final_capital / initial_capital) ** (1 / n_years) - 1\n",
    "print(f\"CAGR (연평균 수익률): {CAGR * 100:.2f}%\")\n",
    "\n",
    "# ✅ MDD (최대 낙폭) 계산\n",
    "capital_series = trade_df[\"Final Capital ($)\"].values\n",
    "peak = capital_series[0]\n",
    "max_drawdown = 0\n",
    "\n",
    "for value in capital_series:\n",
    "    if value > peak:\n",
    "        peak = value\n",
    "    drawdown = (peak - value) / peak\n",
    "    if drawdown > max_drawdown:\n",
    "        max_drawdown = drawdown\n",
    "\n",
    "print(f\"Max Drawdown (최대 낙폭): {max_drawdown * 100:.2f}%\")\n",
    "\n",
    "\n",
    "# 📊 차트\n",
    "plt.figure(figsize=(16, 8))\n",
    "plt.plot(df['Close'], label='Close Price', color='blue')\n",
    "plt.plot(df['SMA20'], label='SMA20', linestyle='--', color='orange')\n",
    "plt.plot(df['SMA60'], label='SMA60', linestyle='--', color='green')\n",
    "\n",
    "# 배경색 (보유 구간)\n",
    "for _, row in trade_df.iterrows():\n",
    "    plt.axvspan(pd.to_datetime(row['Buy Date']), pd.to_datetime(row['Sell Date']), color='yellow', alpha=0.4)\n",
    "\n",
    "plt.plot(df[df[\"Buy_Signal\"]].index, df[df[\"Buy_Signal\"]]['Close'], '^', markersize=10, color='green', label='Buy Signal')\n",
    "plt.plot(df[df[\"Sell_Signal\"]].index, df[df[\"Sell_Signal\"]]['Close'], 'v', markersize=10, color='red', label='Sell Signal')\n",
    "\n",
    "plt.title(f\"{ticker} Swing Trading Strategy with Reason Labels\")\n",
    "plt.xlabel(\"Date\")\n",
    "plt.ylabel(\"Price (USD)\")\n",
    "plt.legend()\n",
    "plt.grid(True)\n",
    "plt.tight_layout()\n",
    "plt.show()\n",
    "\n"
   ]
  },
  {
   "cell_type": "code",
   "execution_count": null,
   "metadata": {
    "id": "Nty_de_NNky9"
   },
   "outputs": [],
   "source": []
  },
  {
   "cell_type": "code",
   "execution_count": null,
   "metadata": {
    "id": "b_DspejbNlXR"
   },
   "outputs": [],
   "source": []
  }
 ],
 "metadata": {
  "colab": {
   "authorship_tag": "ABX9TyNfYHLXVE/Cm96Vusr2FcIW",
   "provenance": []
  },
  "kernelspec": {
   "display_name": "Python 3",
   "name": "python3"
  },
  "language_info": {
   "name": "python"
  }
 },
 "nbformat": 4,
 "nbformat_minor": 0
}
