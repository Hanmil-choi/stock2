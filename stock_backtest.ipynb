{
  "cells": [
    {
      "cell_type": "code",
      "source": [
        "!git clone https://github.com/Hanmil-choi/stock2.git"
      ],
      "metadata": {
        "id": "w6t7LYO7FxdV",
        "outputId": "0d53777a-837a-4459-ed8e-ac6b448d95fb",
        "colab": {
          "base_uri": "https://localhost:8080/"
        }
      },
      "execution_count": 1,
      "outputs": [
        {
          "output_type": "stream",
          "name": "stdout",
          "text": [
            "Cloning into 'stock2'...\n",
            "remote: Enumerating objects: 42, done.\u001b[K\n",
            "remote: Counting objects: 100% (42/42), done.\u001b[K\n",
            "remote: Compressing objects: 100% (42/42), done.\u001b[K\n",
            "remote: Total 42 (delta 4), reused 0 (delta 0), pack-reused 0 (from 0)\u001b[K\n",
            "Receiving objects: 100% (42/42), 2.51 MiB | 6.12 MiB/s, done.\n",
            "Resolving deltas: 100% (4/4), done.\n"
          ]
        }
      ]
    },
    {
      "cell_type": "code",
      "source": [
        "import os\n",
        "import glob\n",
        "import pandas as pd"
      ],
      "metadata": {
        "id": "iJ-nG8DYF4cw"
      },
      "execution_count": 9,
      "outputs": []
    },
    {
      "cell_type": "code",
      "source": [
        "BASE_DIR = \"/content/stock2\"\n",
        "csv_files = glob.glob(os.path.join(BASE_DIR, \"*_daily_price.csv\"))\n",
        "tickers = []\n",
        "for file in csv_files:\n",
        "    ticker = os.path.basename(file).split(\"_\")[0]  # 파일명에서 종목코드 추출\n",
        "    tickers.append(ticker)\n",
        "\n",
        "print(\"종목코드 목록:\")\n",
        "print(tickers)"
      ],
      "metadata": {
        "id": "z9PsVMu6FyIZ",
        "outputId": "914c9ffb-5658-4cd7-e11a-897511bf9c94",
        "colab": {
          "base_uri": "https://localhost:8080/"
        }
      },
      "execution_count": 10,
      "outputs": [
        {
          "output_type": "stream",
          "name": "stdout",
          "text": [
            "종목코드 목록:\n",
            "['086790', '009540', '011200', '035420', '034020', '015760', '005935', '138040', '105560', '005380', '055550', '064350', '069500', '032830', '000810', '373220', '402340', '042660', '028260', '035720', '000270', '329180', '005490', '316140', '051910', '000660', '012330', '207940', '012450', '068270', '005930']\n"
          ]
        }
      ]
    }
  ],
  "metadata": {
    "colab": {
      "provenance": []
    },
    "kernelspec": {
      "display_name": "Python 3",
      "name": "python3"
    },
    "language_info": {
      "name": "python"
    }
  },
  "nbformat": 4,
  "nbformat_minor": 0
}